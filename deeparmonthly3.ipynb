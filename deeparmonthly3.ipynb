{
 "metadata": {
  "language_info": {
   "codemirror_mode": {
    "name": "ipython",
    "version": 3
   },
   "file_extension": ".py",
   "mimetype": "text/x-python",
   "name": "python",
   "nbconvert_exporter": "python",
   "pygments_lexer": "ipython3",
   "version": "3.7.9-final"
  },
  "orig_nbformat": 2,
  "kernelspec": {
   "name": "python3",
   "display_name": "Python 3",
   "language": "python"
  }
 },
 "nbformat": 4,
 "nbformat_minor": 2,
 "cells": [
  {
   "cell_type": "code",
   "execution_count": 1,
   "metadata": {},
   "outputs": [],
   "source": [
    "from deepar import *"
   ]
  },
  {
   "cell_type": "code",
   "execution_count": 2,
   "metadata": {},
   "outputs": [],
   "source": [
    "mx.random.seed(0)\n",
    "np.random.seed(0)"
   ]
  },
  {
   "cell_type": "code",
   "execution_count": 3,
   "metadata": {},
   "outputs": [],
   "source": [
    "filepath = 'data/cr2_qflxAmon_2018/cr2_qflxAmon_2018.txt'\n",
    "df_fl = pd.read_csv(filepath, parse_dates=True)\n",
    "filepath = 'data/cr2_prAmon_2018/cr2_prAmon_2018.txt'\n",
    "df_p = pd.read_csv(filepath, parse_dates=True)"
   ]
  },
  {
   "cell_type": "code",
   "execution_count": 4,
   "metadata": {},
   "outputs": [],
   "source": [
    "df_p = df_p.loc[:,df_p.iloc[0] == 'DGA']\n",
    "df_p = df_p.add_prefix('p_')"
   ]
  },
  {
   "cell_type": "code",
   "execution_count": 5,
   "metadata": {},
   "outputs": [],
   "source": [
    "df = pd.concat([df_fl, df_p], axis=1)"
   ]
  },
  {
   "cell_type": "code",
   "execution_count": 6,
   "metadata": {},
   "outputs": [],
   "source": [
    "df = df.replace(-9999, np.nan)\n",
    "df = df.replace('-9999', np.nan)"
   ]
  },
  {
   "cell_type": "code",
   "execution_count": 7,
   "metadata": {},
   "outputs": [],
   "source": [
    "df = df.drop([i for i in range(14)])\n",
    "df = df.rename(columns={\"codigo_estacion\": \"dates\"})"
   ]
  },
  {
   "cell_type": "code",
   "execution_count": 8,
   "metadata": {},
   "outputs": [
    {
     "output_type": "stream",
     "name": "stderr",
     "text": [
      "  0%|          | 0/50 [00:00<?, ?it/s]learning rate from ``lr_scheduler`` has been overwritten by ``learning_rate`` in optimizer.\n",
      "100%|██████████| 50/50 [00:02<00:00, 20.23it/s, epoch=1/10, avg_epoch_loss=4.29]\n",
      "100%|██████████| 50/50 [00:02<00:00, 23.79it/s, epoch=2/10, avg_epoch_loss=4.04]\n",
      "100%|██████████| 50/50 [00:01<00:00, 25.28it/s, epoch=3/10, avg_epoch_loss=4.05]\n",
      "100%|██████████| 50/50 [00:02<00:00, 21.92it/s, epoch=4/10, avg_epoch_loss=3.87]\n",
      "100%|██████████| 50/50 [00:02<00:00, 24.58it/s, epoch=5/10, avg_epoch_loss=3.95]\n",
      "100%|██████████| 50/50 [00:02<00:00, 23.26it/s, epoch=6/10, avg_epoch_loss=3.77]\n",
      "100%|██████████| 50/50 [00:02<00:00, 24.66it/s, epoch=7/10, avg_epoch_loss=3.86]\n",
      "100%|██████████| 50/50 [00:02<00:00, 24.64it/s, epoch=8/10, avg_epoch_loss=3.74]\n",
      "100%|██████████| 50/50 [00:02<00:00, 24.96it/s, epoch=9/10, avg_epoch_loss=3.7]\n",
      "100%|██████████| 50/50 [00:02<00:00, 24.47it/s, epoch=10/10, avg_epoch_loss=3.77]\n",
      "Running evaluation: 100%|██████████| 5/5 [00:00<00:00, 153.05it/s]\n",
      "Running evaluation: 100%|██████████| 5/5 [00:00<00:00, 185.02it/s]\n"
     ]
    },
    {
     "output_type": "execute_result",
     "data": {
      "text/plain": [
       "        DeepAR  Seasonal naive\n",
       "MASE  0.220076        0.277483\n",
       "MSIS  2.405272       11.099312\n",
       "NSE   0.014607       -0.144646"
      ],
      "text/html": "<div>\n<style scoped>\n    .dataframe tbody tr th:only-of-type {\n        vertical-align: middle;\n    }\n\n    .dataframe tbody tr th {\n        vertical-align: top;\n    }\n\n    .dataframe thead th {\n        text-align: right;\n    }\n</style>\n<table border=\"1\" class=\"dataframe\">\n  <thead>\n    <tr style=\"text-align: right;\">\n      <th></th>\n      <th>DeepAR</th>\n      <th>Seasonal naive</th>\n    </tr>\n  </thead>\n  <tbody>\n    <tr>\n      <th>MASE</th>\n      <td>0.220076</td>\n      <td>0.277483</td>\n    </tr>\n    <tr>\n      <th>MSIS</th>\n      <td>2.405272</td>\n      <td>11.099312</td>\n    </tr>\n    <tr>\n      <th>NSE</th>\n      <td>0.014607</td>\n      <td>-0.144646</td>\n    </tr>\n  </tbody>\n</table>\n</div>"
     },
     "metadata": {},
     "execution_count": 8
    }
   ],
   "source": [
    "test_station = '7321002'\n",
    "columns = ['dates', '7321002', 'p_7321002']\n",
    "df1 = get_df(df, columns, past_years=20)\n",
    "model = fit(df1, columns)\n",
    "predict(model, df1, test_station, plot=False)"
   ]
  },
  {
   "cell_type": "code",
   "execution_count": 9,
   "metadata": {},
   "outputs": [
    {
     "output_type": "stream",
     "name": "stderr",
     "text": [
      "  0%|          | 0/50 [00:00<?, ?it/s]learning rate from ``lr_scheduler`` has been overwritten by ``learning_rate`` in optimizer.\n",
      "100%|██████████| 50/50 [00:02<00:00, 23.30it/s, epoch=1/10, avg_epoch_loss=2.43]\n",
      "100%|██████████| 50/50 [00:02<00:00, 21.27it/s, epoch=2/10, avg_epoch_loss=2.33]\n",
      "100%|██████████| 50/50 [00:02<00:00, 24.97it/s, epoch=3/10, avg_epoch_loss=2.33]\n",
      "100%|██████████| 50/50 [00:01<00:00, 25.13it/s, epoch=4/10, avg_epoch_loss=2.34]\n",
      "100%|██████████| 50/50 [00:01<00:00, 25.17it/s, epoch=5/10, avg_epoch_loss=2.36]\n",
      "100%|██████████| 50/50 [00:02<00:00, 24.41it/s, epoch=6/10, avg_epoch_loss=2.29]\n",
      "100%|██████████| 50/50 [00:01<00:00, 25.06it/s, epoch=7/10, avg_epoch_loss=2.23]\n",
      "100%|██████████| 50/50 [00:02<00:00, 24.67it/s, epoch=8/10, avg_epoch_loss=2.22]\n",
      "100%|██████████| 50/50 [00:02<00:00, 24.94it/s, epoch=9/10, avg_epoch_loss=2.37]\n",
      "100%|██████████| 50/50 [00:01<00:00, 25.01it/s, epoch=10/10, avg_epoch_loss=2.2]\n",
      "Running evaluation: 100%|██████████| 5/5 [00:00<00:00, 170.05it/s]\n",
      "Running evaluation: 100%|██████████| 5/5 [00:00<00:00, 218.34it/s]\n"
     ]
    },
    {
     "output_type": "execute_result",
     "data": {
      "text/plain": [
       "        DeepAR  Seasonal naive\n",
       "MASE  0.235195        0.277483\n",
       "MSIS  1.260569       11.099312\n",
       "NSE   0.041778       -0.144646"
      ],
      "text/html": "<div>\n<style scoped>\n    .dataframe tbody tr th:only-of-type {\n        vertical-align: middle;\n    }\n\n    .dataframe tbody tr th {\n        vertical-align: top;\n    }\n\n    .dataframe thead th {\n        text-align: right;\n    }\n</style>\n<table border=\"1\" class=\"dataframe\">\n  <thead>\n    <tr style=\"text-align: right;\">\n      <th></th>\n      <th>DeepAR</th>\n      <th>Seasonal naive</th>\n    </tr>\n  </thead>\n  <tbody>\n    <tr>\n      <th>MASE</th>\n      <td>0.235195</td>\n      <td>0.277483</td>\n    </tr>\n    <tr>\n      <th>MSIS</th>\n      <td>1.260569</td>\n      <td>11.099312</td>\n    </tr>\n    <tr>\n      <th>NSE</th>\n      <td>0.041778</td>\n      <td>-0.144646</td>\n    </tr>\n  </tbody>\n</table>\n</div>"
     },
     "metadata": {},
     "execution_count": 9
    }
   ],
   "source": [
    "test_station = '7321002'\n",
    "columns = ['dates', '7321002', '7300001', '7317005', '7303000', '7306001', '7317003', '7308002', '7308001', '7320003', 'p_7321002', 'p_7317005', 'p_7303000', 'p_7306001', 'p_7320003',]\n",
    "df2 = get_df(df, columns, past_years=20)\n",
    "model = fit(df2, columns)\n",
    "predict(model, df2, test_station, plot=False)"
   ]
  },
  {
   "cell_type": "code",
   "execution_count": 11,
   "metadata": {},
   "outputs": [
    {
     "output_type": "stream",
     "name": "stderr",
     "text": [
      "  0%|          | 0/50 [00:00<?, ?it/s]learning rate from ``lr_scheduler`` has been overwritten by ``learning_rate`` in optimizer.\n",
      "100%|██████████| 50/50 [00:02<00:00, 22.70it/s, epoch=1/10, avg_epoch_loss=3.44]\n",
      "100%|██████████| 50/50 [00:02<00:00, 24.01it/s, epoch=2/10, avg_epoch_loss=3.45]\n",
      "100%|██████████| 50/50 [00:02<00:00, 24.29it/s, epoch=3/10, avg_epoch_loss=3.51]\n",
      "100%|██████████| 50/50 [00:02<00:00, 23.99it/s, epoch=4/10, avg_epoch_loss=3.58]\n",
      "100%|██████████| 50/50 [00:02<00:00, 23.27it/s, epoch=5/10, avg_epoch_loss=3.32]\n",
      "100%|██████████| 50/50 [00:02<00:00, 23.12it/s, epoch=6/10, avg_epoch_loss=3.28]\n",
      "100%|██████████| 50/50 [00:02<00:00, 24.12it/s, epoch=7/10, avg_epoch_loss=3.39]\n",
      "100%|██████████| 50/50 [00:02<00:00, 24.21it/s, epoch=8/10, avg_epoch_loss=3.43]\n",
      "100%|██████████| 50/50 [00:02<00:00, 24.05it/s, epoch=9/10, avg_epoch_loss=3.3]\n",
      "100%|██████████| 50/50 [00:02<00:00, 24.56it/s, epoch=10/10, avg_epoch_loss=3.31]\n",
      "Running evaluation: 100%|██████████| 5/5 [00:00<00:00, 247.21it/s]\n",
      "Running evaluation: 100%|██████████| 5/5 [00:00<00:00, 186.35it/s]\n"
     ]
    },
    {
     "output_type": "execute_result",
     "data": {
      "text/plain": [
       "        DeepAR  Seasonal naive\n",
       "MASE  0.227803        0.277483\n",
       "MSIS  1.539814       11.099312\n",
       "NSE   0.075014       -0.144646"
      ],
      "text/html": "<div>\n<style scoped>\n    .dataframe tbody tr th:only-of-type {\n        vertical-align: middle;\n    }\n\n    .dataframe tbody tr th {\n        vertical-align: top;\n    }\n\n    .dataframe thead th {\n        text-align: right;\n    }\n</style>\n<table border=\"1\" class=\"dataframe\">\n  <thead>\n    <tr style=\"text-align: right;\">\n      <th></th>\n      <th>DeepAR</th>\n      <th>Seasonal naive</th>\n    </tr>\n  </thead>\n  <tbody>\n    <tr>\n      <th>MASE</th>\n      <td>0.227803</td>\n      <td>0.277483</td>\n    </tr>\n    <tr>\n      <th>MSIS</th>\n      <td>1.539814</td>\n      <td>11.099312</td>\n    </tr>\n    <tr>\n      <th>NSE</th>\n      <td>0.075014</td>\n      <td>-0.144646</td>\n    </tr>\n  </tbody>\n</table>\n</div>"
     },
     "metadata": {},
     "execution_count": 11
    }
   ],
   "source": [
    "df3 = df.iloc[- 20 * 12:]\n",
    "df3 = df3.set_index('dates')\n",
    "df3 = df3.dropna(thresh=100, axis=1)\n",
    "columns = df3.columns.values.tolist()\n",
    "\n",
    "model = fit(df3, columns)\n",
    "\n",
    "test_station = '7321002'\n",
    "predict(model, df3, test_station, plot=False)"
   ]
  },
  {
   "cell_type": "code",
   "execution_count": null,
   "metadata": {},
   "outputs": [],
   "source": []
  }
 ]
}