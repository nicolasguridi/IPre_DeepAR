{
 "metadata": {
  "language_info": {
   "codemirror_mode": {
    "name": "ipython",
    "version": 3
   },
   "file_extension": ".py",
   "mimetype": "text/x-python",
   "name": "python",
   "nbconvert_exporter": "python",
   "pygments_lexer": "ipython3",
   "version": "3.7.9-final"
  },
  "orig_nbformat": 2,
  "kernelspec": {
   "name": "python3",
   "display_name": "Python 3",
   "language": "python"
  }
 },
 "nbformat": 4,
 "nbformat_minor": 2,
 "cells": [
  {
   "cell_type": "code",
   "execution_count": 1,
   "metadata": {},
   "outputs": [],
   "source": [
    "from deepar import *"
   ]
  },
  {
   "cell_type": "code",
   "execution_count": 2,
   "metadata": {},
   "outputs": [],
   "source": [
    "mx.random.seed(0)\n",
    "np.random.seed(0)"
   ]
  },
  {
   "cell_type": "code",
   "execution_count": 3,
   "metadata": {},
   "outputs": [],
   "source": [
    "filepath = 'data/cr2_qflxAmon_2018/cr2_qflxAmon_2018.txt'\n",
    "df_fl = pd.read_csv(filepath, parse_dates=True)\n",
    "filepath = 'data/cr2_tasAmon_2018_ghcn/cr2_tasAmon_2018_ghcn.txt'\n",
    "df_t = pd.read_csv(filepath, parse_dates=True)"
   ]
  },
  {
   "cell_type": "code",
   "execution_count": 4,
   "metadata": {},
   "outputs": [],
   "source": [
    "df_t = df_t.loc[:,df_t.iloc[0] == 'DGA']\n",
    "df_t = df_t.add_prefix('t_')"
   ]
  },
  {
   "cell_type": "code",
   "execution_count": 5,
   "metadata": {},
   "outputs": [],
   "source": [
    "df = pd.concat([df_fl, df_t], axis=1)"
   ]
  },
  {
   "cell_type": "code",
   "execution_count": 6,
   "metadata": {},
   "outputs": [],
   "source": [
    "df = df.replace(-9999, np.nan)\n",
    "df = df.replace('-9999', np.nan)"
   ]
  },
  {
   "cell_type": "code",
   "execution_count": 7,
   "metadata": {},
   "outputs": [],
   "source": [
    "df = df.drop([i for i in range(14)])\n",
    "df = df.rename(columns={\"codigo_estacion\": \"dates\"})"
   ]
  },
  {
   "cell_type": "code",
   "execution_count": 8,
   "metadata": {},
   "outputs": [
    {
     "output_type": "execute_result",
     "data": {
      "text/plain": [
       "        dates 1201005 1201002 1201001 1001002 1201003 1001003 1001001 1020002  \\\n",
       "14    1900-01     NaN     NaN     NaN     NaN     NaN     NaN     NaN     NaN   \n",
       "15    1900-02     NaN     NaN     NaN     NaN     NaN     NaN     NaN     NaN   \n",
       "16    1900-03     NaN     NaN     NaN     NaN     NaN     NaN     NaN     NaN   \n",
       "17    1900-04     NaN     NaN     NaN     NaN     NaN     NaN     NaN     NaN   \n",
       "18    1900-05     NaN     NaN     NaN     NaN     NaN     NaN     NaN     NaN   \n",
       "...       ...     ...     ...     ...     ...     ...     ...     ...     ...   \n",
       "1426  2017-09   0.219     NaN     NaN     NaN   6.834     NaN     NaN     NaN   \n",
       "1427  2017-10   0.234     NaN     NaN     NaN  10.948     NaN     NaN     NaN   \n",
       "1428  2017-11   0.241     NaN     NaN     NaN   9.494     NaN     NaN     NaN   \n",
       "1429  2017-12   0.288     NaN     NaN     NaN     2.6     NaN     NaN     NaN   \n",
       "1430  2018-01   0.514     NaN     NaN     NaN  11.812     NaN     NaN     NaN   \n",
       "\n",
       "     1020004  ... t_12863001 t_12582003 t_12873001 t_12821000 t_12876003  \\\n",
       "14       NaN  ...        NaN        NaN        NaN        NaN        NaN   \n",
       "15       NaN  ...        NaN        NaN        NaN        NaN        NaN   \n",
       "16       NaN  ...        NaN        NaN        NaN        NaN        NaN   \n",
       "17       NaN  ...        NaN        NaN        NaN        NaN        NaN   \n",
       "18       NaN  ...        NaN        NaN        NaN        NaN        NaN   \n",
       "...      ...  ...        ...        ...        ...        ...        ...   \n",
       "1426     NaN  ...       4.49      2.875      2.636        NaN      3.797   \n",
       "1427     NaN  ...      6.183       4.08      4.076        NaN      5.589   \n",
       "1428     NaN  ...      8.829      6.378      6.641        NaN      8.526   \n",
       "1429     NaN  ...      9.538      6.433      6.774        NaN      8.593   \n",
       "1430     NaN  ...     11.315       8.74      8.435      10.25     10.453   \n",
       "\n",
       "     t_12879000 t_12878002 t_12930004 t_12930001 t_12930005  \n",
       "14          NaN        NaN        NaN        NaN        NaN  \n",
       "15          NaN        NaN        NaN        NaN        NaN  \n",
       "16          NaN        NaN        NaN        NaN        NaN  \n",
       "17          NaN        NaN        NaN        NaN        NaN  \n",
       "18          NaN        NaN        NaN        NaN        NaN  \n",
       "...         ...        ...        ...        ...        ...  \n",
       "1426      0.072      4.991      4.764       3.56      4.168  \n",
       "1427       1.58       6.13      6.176      4.821      5.513  \n",
       "1428      4.469      8.236      8.234      7.108      7.499  \n",
       "1429      4.138      8.656      8.839      7.833      8.252  \n",
       "1430      6.143     10.444     10.672      9.425      9.693  \n",
       "\n",
       "[1417 rows x 1090 columns]"
      ],
      "text/html": "<div>\n<style scoped>\n    .dataframe tbody tr th:only-of-type {\n        vertical-align: middle;\n    }\n\n    .dataframe tbody tr th {\n        vertical-align: top;\n    }\n\n    .dataframe thead th {\n        text-align: right;\n    }\n</style>\n<table border=\"1\" class=\"dataframe\">\n  <thead>\n    <tr style=\"text-align: right;\">\n      <th></th>\n      <th>dates</th>\n      <th>1201005</th>\n      <th>1201002</th>\n      <th>1201001</th>\n      <th>1001002</th>\n      <th>1201003</th>\n      <th>1001003</th>\n      <th>1001001</th>\n      <th>1020002</th>\n      <th>1020004</th>\n      <th>...</th>\n      <th>t_12863001</th>\n      <th>t_12582003</th>\n      <th>t_12873001</th>\n      <th>t_12821000</th>\n      <th>t_12876003</th>\n      <th>t_12879000</th>\n      <th>t_12878002</th>\n      <th>t_12930004</th>\n      <th>t_12930001</th>\n      <th>t_12930005</th>\n    </tr>\n  </thead>\n  <tbody>\n    <tr>\n      <th>14</th>\n      <td>1900-01</td>\n      <td>NaN</td>\n      <td>NaN</td>\n      <td>NaN</td>\n      <td>NaN</td>\n      <td>NaN</td>\n      <td>NaN</td>\n      <td>NaN</td>\n      <td>NaN</td>\n      <td>NaN</td>\n      <td>...</td>\n      <td>NaN</td>\n      <td>NaN</td>\n      <td>NaN</td>\n      <td>NaN</td>\n      <td>NaN</td>\n      <td>NaN</td>\n      <td>NaN</td>\n      <td>NaN</td>\n      <td>NaN</td>\n      <td>NaN</td>\n    </tr>\n    <tr>\n      <th>15</th>\n      <td>1900-02</td>\n      <td>NaN</td>\n      <td>NaN</td>\n      <td>NaN</td>\n      <td>NaN</td>\n      <td>NaN</td>\n      <td>NaN</td>\n      <td>NaN</td>\n      <td>NaN</td>\n      <td>NaN</td>\n      <td>...</td>\n      <td>NaN</td>\n      <td>NaN</td>\n      <td>NaN</td>\n      <td>NaN</td>\n      <td>NaN</td>\n      <td>NaN</td>\n      <td>NaN</td>\n      <td>NaN</td>\n      <td>NaN</td>\n      <td>NaN</td>\n    </tr>\n    <tr>\n      <th>16</th>\n      <td>1900-03</td>\n      <td>NaN</td>\n      <td>NaN</td>\n      <td>NaN</td>\n      <td>NaN</td>\n      <td>NaN</td>\n      <td>NaN</td>\n      <td>NaN</td>\n      <td>NaN</td>\n      <td>NaN</td>\n      <td>...</td>\n      <td>NaN</td>\n      <td>NaN</td>\n      <td>NaN</td>\n      <td>NaN</td>\n      <td>NaN</td>\n      <td>NaN</td>\n      <td>NaN</td>\n      <td>NaN</td>\n      <td>NaN</td>\n      <td>NaN</td>\n    </tr>\n    <tr>\n      <th>17</th>\n      <td>1900-04</td>\n      <td>NaN</td>\n      <td>NaN</td>\n      <td>NaN</td>\n      <td>NaN</td>\n      <td>NaN</td>\n      <td>NaN</td>\n      <td>NaN</td>\n      <td>NaN</td>\n      <td>NaN</td>\n      <td>...</td>\n      <td>NaN</td>\n      <td>NaN</td>\n      <td>NaN</td>\n      <td>NaN</td>\n      <td>NaN</td>\n      <td>NaN</td>\n      <td>NaN</td>\n      <td>NaN</td>\n      <td>NaN</td>\n      <td>NaN</td>\n    </tr>\n    <tr>\n      <th>18</th>\n      <td>1900-05</td>\n      <td>NaN</td>\n      <td>NaN</td>\n      <td>NaN</td>\n      <td>NaN</td>\n      <td>NaN</td>\n      <td>NaN</td>\n      <td>NaN</td>\n      <td>NaN</td>\n      <td>NaN</td>\n      <td>...</td>\n      <td>NaN</td>\n      <td>NaN</td>\n      <td>NaN</td>\n      <td>NaN</td>\n      <td>NaN</td>\n      <td>NaN</td>\n      <td>NaN</td>\n      <td>NaN</td>\n      <td>NaN</td>\n      <td>NaN</td>\n    </tr>\n    <tr>\n      <th>...</th>\n      <td>...</td>\n      <td>...</td>\n      <td>...</td>\n      <td>...</td>\n      <td>...</td>\n      <td>...</td>\n      <td>...</td>\n      <td>...</td>\n      <td>...</td>\n      <td>...</td>\n      <td>...</td>\n      <td>...</td>\n      <td>...</td>\n      <td>...</td>\n      <td>...</td>\n      <td>...</td>\n      <td>...</td>\n      <td>...</td>\n      <td>...</td>\n      <td>...</td>\n      <td>...</td>\n    </tr>\n    <tr>\n      <th>1426</th>\n      <td>2017-09</td>\n      <td>0.219</td>\n      <td>NaN</td>\n      <td>NaN</td>\n      <td>NaN</td>\n      <td>6.834</td>\n      <td>NaN</td>\n      <td>NaN</td>\n      <td>NaN</td>\n      <td>NaN</td>\n      <td>...</td>\n      <td>4.49</td>\n      <td>2.875</td>\n      <td>2.636</td>\n      <td>NaN</td>\n      <td>3.797</td>\n      <td>0.072</td>\n      <td>4.991</td>\n      <td>4.764</td>\n      <td>3.56</td>\n      <td>4.168</td>\n    </tr>\n    <tr>\n      <th>1427</th>\n      <td>2017-10</td>\n      <td>0.234</td>\n      <td>NaN</td>\n      <td>NaN</td>\n      <td>NaN</td>\n      <td>10.948</td>\n      <td>NaN</td>\n      <td>NaN</td>\n      <td>NaN</td>\n      <td>NaN</td>\n      <td>...</td>\n      <td>6.183</td>\n      <td>4.08</td>\n      <td>4.076</td>\n      <td>NaN</td>\n      <td>5.589</td>\n      <td>1.58</td>\n      <td>6.13</td>\n      <td>6.176</td>\n      <td>4.821</td>\n      <td>5.513</td>\n    </tr>\n    <tr>\n      <th>1428</th>\n      <td>2017-11</td>\n      <td>0.241</td>\n      <td>NaN</td>\n      <td>NaN</td>\n      <td>NaN</td>\n      <td>9.494</td>\n      <td>NaN</td>\n      <td>NaN</td>\n      <td>NaN</td>\n      <td>NaN</td>\n      <td>...</td>\n      <td>8.829</td>\n      <td>6.378</td>\n      <td>6.641</td>\n      <td>NaN</td>\n      <td>8.526</td>\n      <td>4.469</td>\n      <td>8.236</td>\n      <td>8.234</td>\n      <td>7.108</td>\n      <td>7.499</td>\n    </tr>\n    <tr>\n      <th>1429</th>\n      <td>2017-12</td>\n      <td>0.288</td>\n      <td>NaN</td>\n      <td>NaN</td>\n      <td>NaN</td>\n      <td>2.6</td>\n      <td>NaN</td>\n      <td>NaN</td>\n      <td>NaN</td>\n      <td>NaN</td>\n      <td>...</td>\n      <td>9.538</td>\n      <td>6.433</td>\n      <td>6.774</td>\n      <td>NaN</td>\n      <td>8.593</td>\n      <td>4.138</td>\n      <td>8.656</td>\n      <td>8.839</td>\n      <td>7.833</td>\n      <td>8.252</td>\n    </tr>\n    <tr>\n      <th>1430</th>\n      <td>2018-01</td>\n      <td>0.514</td>\n      <td>NaN</td>\n      <td>NaN</td>\n      <td>NaN</td>\n      <td>11.812</td>\n      <td>NaN</td>\n      <td>NaN</td>\n      <td>NaN</td>\n      <td>NaN</td>\n      <td>...</td>\n      <td>11.315</td>\n      <td>8.74</td>\n      <td>8.435</td>\n      <td>10.25</td>\n      <td>10.453</td>\n      <td>6.143</td>\n      <td>10.444</td>\n      <td>10.672</td>\n      <td>9.425</td>\n      <td>9.693</td>\n    </tr>\n  </tbody>\n</table>\n<p>1417 rows × 1090 columns</p>\n</div>"
     },
     "metadata": {},
     "execution_count": 8
    }
   ],
   "source": [
    "df"
   ]
  },
  {
   "cell_type": "code",
   "execution_count": 16,
   "metadata": {},
   "outputs": [
    {
     "output_type": "stream",
     "name": "stderr",
     "text": [
      "  0%|          | 0/50 [00:00<?, ?it/s]learning rate from ``lr_scheduler`` has been overwritten by ``learning_rate`` in optimizer.\n",
      "100%|██████████| 50/50 [00:02<00:00, 21.53it/s, epoch=1/10, avg_epoch_loss=3.14]\n",
      "100%|██████████| 50/50 [00:02<00:00, 23.35it/s, epoch=2/10, avg_epoch_loss=2.9]\n",
      "100%|██████████| 50/50 [00:02<00:00, 24.77it/s, epoch=3/10, avg_epoch_loss=2.95]\n",
      "100%|██████████| 50/50 [00:02<00:00, 24.39it/s, epoch=4/10, avg_epoch_loss=2.87]\n",
      "100%|██████████| 50/50 [00:02<00:00, 24.55it/s, epoch=5/10, avg_epoch_loss=2.97]\n",
      "100%|██████████| 50/50 [00:02<00:00, 24.50it/s, epoch=6/10, avg_epoch_loss=2.81]\n",
      "100%|██████████| 50/50 [00:02<00:00, 23.41it/s, epoch=7/10, avg_epoch_loss=2.91]\n",
      "100%|██████████| 50/50 [00:02<00:00, 24.00it/s, epoch=8/10, avg_epoch_loss=2.79]\n",
      "100%|██████████| 50/50 [00:02<00:00, 21.02it/s, epoch=9/10, avg_epoch_loss=2.8]\n",
      "100%|██████████| 50/50 [00:02<00:00, 24.22it/s, epoch=10/10, avg_epoch_loss=2.83]\n",
      "Running evaluation: 100%|██████████| 5/5 [00:00<00:00, 88.32it/s]\n",
      "Running evaluation: 100%|██████████| 5/5 [00:00<00:00, 179.68it/s]\n"
     ]
    },
    {
     "output_type": "execute_result",
     "data": {
      "text/plain": [
       "        DeepAR  Seasonal naive\n",
       "MASE  0.264925        0.277483\n",
       "MSIS  2.285967       11.099312\n",
       "NSE   0.021500       -0.144646"
      ],
      "text/html": "<div>\n<style scoped>\n    .dataframe tbody tr th:only-of-type {\n        vertical-align: middle;\n    }\n\n    .dataframe tbody tr th {\n        vertical-align: top;\n    }\n\n    .dataframe thead th {\n        text-align: right;\n    }\n</style>\n<table border=\"1\" class=\"dataframe\">\n  <thead>\n    <tr style=\"text-align: right;\">\n      <th></th>\n      <th>DeepAR</th>\n      <th>Seasonal naive</th>\n    </tr>\n  </thead>\n  <tbody>\n    <tr>\n      <th>MASE</th>\n      <td>0.264925</td>\n      <td>0.277483</td>\n    </tr>\n    <tr>\n      <th>MSIS</th>\n      <td>2.285967</td>\n      <td>11.099312</td>\n    </tr>\n    <tr>\n      <th>NSE</th>\n      <td>0.021500</td>\n      <td>-0.144646</td>\n    </tr>\n  </tbody>\n</table>\n</div>"
     },
     "metadata": {},
     "execution_count": 16
    }
   ],
   "source": [
    "test_station = '7321002'\n",
    "columns = ['dates', test_station, 't_' + test_station]\n",
    "df1 = get_df(df, columns, past_years=20)\n",
    "model = fit(df1, columns)\n",
    "predict(model, df1, test_station, plot=False)"
   ]
  },
  {
   "cell_type": "code",
   "execution_count": 17,
   "metadata": {},
   "outputs": [
    {
     "output_type": "stream",
     "name": "stderr",
     "text": [
      "  0%|          | 0/50 [00:00<?, ?it/s]learning rate from ``lr_scheduler`` has been overwritten by ``learning_rate`` in optimizer.\n",
      "100%|██████████| 50/50 [00:02<00:00, 22.75it/s, epoch=1/10, avg_epoch_loss=2.12]\n",
      "100%|██████████| 50/50 [00:02<00:00, 24.30it/s, epoch=2/10, avg_epoch_loss=2.07]\n",
      "100%|██████████| 50/50 [00:02<00:00, 24.46it/s, epoch=3/10, avg_epoch_loss=2.04]\n",
      "100%|██████████| 50/50 [00:02<00:00, 24.24it/s, epoch=4/10, avg_epoch_loss=2.06]\n",
      "100%|██████████| 50/50 [00:02<00:00, 24.14it/s, epoch=5/10, avg_epoch_loss=2.1]\n",
      "100%|██████████| 50/50 [00:02<00:00, 24.43it/s, epoch=6/10, avg_epoch_loss=2.02]\n",
      "100%|██████████| 50/50 [00:02<00:00, 24.26it/s, epoch=7/10, avg_epoch_loss=1.98]\n",
      "100%|██████████| 50/50 [00:02<00:00, 24.42it/s, epoch=8/10, avg_epoch_loss=1.94]\n",
      "100%|██████████| 50/50 [00:02<00:00, 24.47it/s, epoch=9/10, avg_epoch_loss=2.07]\n",
      "100%|██████████| 50/50 [00:02<00:00, 24.50it/s, epoch=10/10, avg_epoch_loss=1.93]\n",
      "Running evaluation: 100%|██████████| 5/5 [00:00<00:00, 121.89it/s]\n",
      "Running evaluation: 100%|██████████| 5/5 [00:00<00:00, 176.02it/s]\n"
     ]
    },
    {
     "output_type": "execute_result",
     "data": {
      "text/plain": [
       "        DeepAR  Seasonal naive\n",
       "MASE  0.218462        0.277483\n",
       "MSIS  1.976470       11.099312\n",
       "NSE   0.095612       -0.144646"
      ],
      "text/html": "<div>\n<style scoped>\n    .dataframe tbody tr th:only-of-type {\n        vertical-align: middle;\n    }\n\n    .dataframe tbody tr th {\n        vertical-align: top;\n    }\n\n    .dataframe thead th {\n        text-align: right;\n    }\n</style>\n<table border=\"1\" class=\"dataframe\">\n  <thead>\n    <tr style=\"text-align: right;\">\n      <th></th>\n      <th>DeepAR</th>\n      <th>Seasonal naive</th>\n    </tr>\n  </thead>\n  <tbody>\n    <tr>\n      <th>MASE</th>\n      <td>0.218462</td>\n      <td>0.277483</td>\n    </tr>\n    <tr>\n      <th>MSIS</th>\n      <td>1.976470</td>\n      <td>11.099312</td>\n    </tr>\n    <tr>\n      <th>NSE</th>\n      <td>0.095612</td>\n      <td>-0.144646</td>\n    </tr>\n  </tbody>\n</table>\n</div>"
     },
     "metadata": {},
     "execution_count": 17
    }
   ],
   "source": [
    "columns = ['dates', '7321002', '7300001', '7317005', '7303000', '7306001', '7317003', '7308002', '7308001', '7320003', 't_7321002', 't_7317005', 't_7303000', 't_7306001', 't_7320003']\n",
    "df2 = get_df(df, columns, past_years=20)\n",
    "model = fit(df2, columns)\n",
    "predict(model, df2, test_station, plot=False)"
   ]
  },
  {
   "cell_type": "code",
   "execution_count": 18,
   "metadata": {},
   "outputs": [
    {
     "output_type": "stream",
     "name": "stderr",
     "text": [
      "  0%|          | 0/50 [00:00<?, ?it/s]learning rate from ``lr_scheduler`` has been overwritten by ``learning_rate`` in optimizer.\n",
      "100%|██████████| 50/50 [00:02<00:00, 21.36it/s, epoch=1/10, avg_epoch_loss=3.06]\n",
      "100%|██████████| 50/50 [00:02<00:00, 21.29it/s, epoch=2/10, avg_epoch_loss=2.85]\n",
      "100%|██████████| 50/50 [00:02<00:00, 18.98it/s, epoch=3/10, avg_epoch_loss=3]\n",
      "100%|██████████| 50/50 [00:02<00:00, 21.11it/s, epoch=4/10, avg_epoch_loss=2.64]\n",
      "100%|██████████| 50/50 [00:01<00:00, 25.03it/s, epoch=5/10, avg_epoch_loss=2.73]\n",
      "100%|██████████| 50/50 [00:02<00:00, 24.92it/s, epoch=6/10, avg_epoch_loss=2.94]\n",
      "100%|██████████| 50/50 [00:02<00:00, 24.43it/s, epoch=7/10, avg_epoch_loss=2.94]\n",
      "100%|██████████| 50/50 [00:02<00:00, 24.99it/s, epoch=8/10, avg_epoch_loss=2.65]\n",
      "100%|██████████| 50/50 [00:01<00:00, 25.00it/s, epoch=9/10, avg_epoch_loss=2.76]\n",
      "100%|██████████| 50/50 [00:01<00:00, 25.19it/s, epoch=10/10, avg_epoch_loss=2.98]\n",
      "Running evaluation: 100%|██████████| 5/5 [00:00<00:00, 177.13it/s]\n",
      "Running evaluation: 100%|██████████| 5/5 [00:00<00:00, 213.02it/s]\n"
     ]
    },
    {
     "output_type": "execute_result",
     "data": {
      "text/plain": [
       "        DeepAR  Seasonal naive\n",
       "MASE  0.239605        0.277483\n",
       "MSIS  1.653873       11.099312\n",
       "NSE   0.058501       -0.144646"
      ],
      "text/html": "<div>\n<style scoped>\n    .dataframe tbody tr th:only-of-type {\n        vertical-align: middle;\n    }\n\n    .dataframe tbody tr th {\n        vertical-align: top;\n    }\n\n    .dataframe thead th {\n        text-align: right;\n    }\n</style>\n<table border=\"1\" class=\"dataframe\">\n  <thead>\n    <tr style=\"text-align: right;\">\n      <th></th>\n      <th>DeepAR</th>\n      <th>Seasonal naive</th>\n    </tr>\n  </thead>\n  <tbody>\n    <tr>\n      <th>MASE</th>\n      <td>0.239605</td>\n      <td>0.277483</td>\n    </tr>\n    <tr>\n      <th>MSIS</th>\n      <td>1.653873</td>\n      <td>11.099312</td>\n    </tr>\n    <tr>\n      <th>NSE</th>\n      <td>0.058501</td>\n      <td>-0.144646</td>\n    </tr>\n  </tbody>\n</table>\n</div>"
     },
     "metadata": {},
     "execution_count": 18
    }
   ],
   "source": [
    "df3 = df.iloc[- 20 * 12:]\n",
    "df3 = df3.set_index('dates')\n",
    "df3 = df3.dropna(thresh=100, axis=1)\n",
    "columns = df3.columns.values.tolist()\n",
    "\n",
    "model = fit(df3, columns)\n",
    "predict(model, df3, test_station, plot=False)"
   ]
  }
 ]
}